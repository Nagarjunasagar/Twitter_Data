{
  "nbformat": 4,
  "nbformat_minor": 0,
  "metadata": {
    "colab": {
      "name": "twitter_data_EDA.ipynb",
      "provenance": [],
      "mount_file_id": "1h6wvRohB1JzhY1ToFUkvjZZAtjsfE6pL",
      "authorship_tag": "ABX9TyO56JpTBwNaKVEi7EK4dimg",
      "include_colab_link": true
    },
    "kernelspec": {
      "name": "python3",
      "display_name": "Python 3"
    },
    "language_info": {
      "name": "python"
    }
  },
  "cells": [
    {
      "cell_type": "markdown",
      "metadata": {
        "id": "view-in-github",
        "colab_type": "text"
      },
      "source": [
        "<a href=\"https://colab.research.google.com/github/Nagarjunasagar/Twitter_Data/blob/master/twitter_data_EDA.ipynb\" target=\"_parent\"><img src=\"https://colab.research.google.com/assets/colab-badge.svg\" alt=\"Open In Colab\"/></a>"
      ]
    },
    {
      "cell_type": "code",
      "execution_count": 30,
      "metadata": {
        "id": "Iu3O41SQF8Yx"
      },
      "outputs": [],
      "source": [
        "import pandas as pd\n",
        "import numpy as np\n",
        "import matplotlib.pyplot as pyplot\n",
        "import seaborn as sns\n",
        "from openpyxl import load_workbook\n",
        "from openpyxl import Workbook\n",
        "from openpyxl.styles import Alignment, Font, Border, Side, PatternFill\n",
        "from openpyxl.utils import get_column_letter"
      ]
    },
    {
      "cell_type": "markdown",
      "source": [
        "Create a Dataframe for Social Media_Activity Sheet"
      ],
      "metadata": {
        "id": "tgEzR1rHKMdx"
      }
    },
    {
      "cell_type": "code",
      "source": [
        "df = pd.read_excel('/content/drive/MyDrive/knovatic/Datasets/DOL_US_190_FP_FINAL.xlsx',  sheet_name = 'Social Media_Activity')"
      ],
      "metadata": {
        "id": "GRKWZFtwHJOV"
      },
      "execution_count": 31,
      "outputs": []
    },
    {
      "cell_type": "code",
      "source": [
        "print(df.shape)\n",
        "df.head()"
      ],
      "metadata": {
        "colab": {
          "base_uri": "https://localhost:8080/",
          "height": 531
        },
        "id": "M5NMVVvgJ-Vd",
        "outputId": "2bbdca8d-8dab-47b2-fc81-9c7106246092"
      },
      "execution_count": 32,
      "outputs": [
        {
          "output_type": "stream",
          "name": "stdout",
          "text": [
            "(33546, 10)\n"
          ]
        },
        {
          "output_type": "execute_result",
          "data": {
            "text/html": [
              "\n",
              "  <div id=\"df-c046d2ea-ddfa-415a-bfae-89287b27960a\">\n",
              "    <div class=\"colab-df-container\">\n",
              "      <div>\n",
              "<style scoped>\n",
              "    .dataframe tbody tr th:only-of-type {\n",
              "        vertical-align: middle;\n",
              "    }\n",
              "\n",
              "    .dataframe tbody tr th {\n",
              "        vertical-align: top;\n",
              "    }\n",
              "\n",
              "    .dataframe thead th {\n",
              "        text-align: right;\n",
              "    }\n",
              "</style>\n",
              "<table border=\"1\" class=\"dataframe\">\n",
              "  <thead>\n",
              "    <tr style=\"text-align: right;\">\n",
              "      <th></th>\n",
              "      <th>KOL ID</th>\n",
              "      <th>KOL Name</th>\n",
              "      <th>Social Media Article</th>\n",
              "      <th>Social Media Article URL's</th>\n",
              "      <th>Publish Date</th>\n",
              "      <th>Other Topic</th>\n",
              "      <th>Number of Views/Comments</th>\n",
              "      <th>Social Media URL's</th>\n",
              "      <th>Key Topic</th>\n",
              "      <th>Bucket</th>\n",
              "    </tr>\n",
              "  </thead>\n",
              "  <tbody>\n",
              "    <tr>\n",
              "      <th>0</th>\n",
              "      <td>KOL_DOL_US_2203</td>\n",
              "      <td>Farzana Arab</td>\n",
              "      <td>From one doctor who didn’t match to another- M...</td>\n",
              "      <td>https://twitter.com/DrKJStanley/status/1371516...</td>\n",
              "      <td>44270.0</td>\n",
              "      <td>Public Health</td>\n",
              "      <td>88.0</td>\n",
              "      <td>NaN</td>\n",
              "      <td>NaN</td>\n",
              "      <td>NaN</td>\n",
              "    </tr>\n",
              "    <tr>\n",
              "      <th>1</th>\n",
              "      <td>KOL_DOL_US_2203</td>\n",
              "      <td>Farzana Arab</td>\n",
              "      <td>Thank you, @cullen_lilley ! 1) Farzana Arab 2)...</td>\n",
              "      <td>https://twitter.com/Farzanarab/status/13027651...</td>\n",
              "      <td>44081.0</td>\n",
              "      <td>Public Health</td>\n",
              "      <td>13.0</td>\n",
              "      <td>NaN</td>\n",
              "      <td>NaN</td>\n",
              "      <td>NaN</td>\n",
              "    </tr>\n",
              "    <tr>\n",
              "      <th>2</th>\n",
              "      <td>KOL_DOL_US_2203</td>\n",
              "      <td>Farzana Arab</td>\n",
              "      <td>AACR21 news &gt;&gt;&gt; Published by Farzana Arab in T...</td>\n",
              "      <td>https://twitter.com/TheSocialView1/status/1375...</td>\n",
              "      <td>44281.0</td>\n",
              "      <td>Therapeutic of Cancer</td>\n",
              "      <td>0.0</td>\n",
              "      <td>NaN</td>\n",
              "      <td>NaN</td>\n",
              "      <td>NaN</td>\n",
              "    </tr>\n",
              "    <tr>\n",
              "      <th>3</th>\n",
              "      <td>KOL_DOL_US_2204</td>\n",
              "      <td>Albert Qi Bang Chow</td>\n",
              "      <td>NaN</td>\n",
              "      <td>NaN</td>\n",
              "      <td>NaN</td>\n",
              "      <td>NaN</td>\n",
              "      <td>NaN</td>\n",
              "      <td>NaN</td>\n",
              "      <td>NaN</td>\n",
              "      <td>NaN</td>\n",
              "    </tr>\n",
              "    <tr>\n",
              "      <th>4</th>\n",
              "      <td>KOL_DOL_US_2205</td>\n",
              "      <td>Orly Leiva</td>\n",
              "      <td>RT @AlexShehataMD: Nice image illustrating EKG...</td>\n",
              "      <td>https://twitter.com/LeivaOrly/status/130309785...</td>\n",
              "      <td>44081.0</td>\n",
              "      <td>Covid-19</td>\n",
              "      <td>0.0</td>\n",
              "      <td>NaN</td>\n",
              "      <td>NaN</td>\n",
              "      <td>NaN</td>\n",
              "    </tr>\n",
              "  </tbody>\n",
              "</table>\n",
              "</div>\n",
              "      <button class=\"colab-df-convert\" onclick=\"convertToInteractive('df-c046d2ea-ddfa-415a-bfae-89287b27960a')\"\n",
              "              title=\"Convert this dataframe to an interactive table.\"\n",
              "              style=\"display:none;\">\n",
              "        \n",
              "  <svg xmlns=\"http://www.w3.org/2000/svg\" height=\"24px\"viewBox=\"0 0 24 24\"\n",
              "       width=\"24px\">\n",
              "    <path d=\"M0 0h24v24H0V0z\" fill=\"none\"/>\n",
              "    <path d=\"M18.56 5.44l.94 2.06.94-2.06 2.06-.94-2.06-.94-.94-2.06-.94 2.06-2.06.94zm-11 1L8.5 8.5l.94-2.06 2.06-.94-2.06-.94L8.5 2.5l-.94 2.06-2.06.94zm10 10l.94 2.06.94-2.06 2.06-.94-2.06-.94-.94-2.06-.94 2.06-2.06.94z\"/><path d=\"M17.41 7.96l-1.37-1.37c-.4-.4-.92-.59-1.43-.59-.52 0-1.04.2-1.43.59L10.3 9.45l-7.72 7.72c-.78.78-.78 2.05 0 2.83L4 21.41c.39.39.9.59 1.41.59.51 0 1.02-.2 1.41-.59l7.78-7.78 2.81-2.81c.8-.78.8-2.07 0-2.86zM5.41 20L4 18.59l7.72-7.72 1.47 1.35L5.41 20z\"/>\n",
              "  </svg>\n",
              "      </button>\n",
              "      \n",
              "  <style>\n",
              "    .colab-df-container {\n",
              "      display:flex;\n",
              "      flex-wrap:wrap;\n",
              "      gap: 12px;\n",
              "    }\n",
              "\n",
              "    .colab-df-convert {\n",
              "      background-color: #E8F0FE;\n",
              "      border: none;\n",
              "      border-radius: 50%;\n",
              "      cursor: pointer;\n",
              "      display: none;\n",
              "      fill: #1967D2;\n",
              "      height: 32px;\n",
              "      padding: 0 0 0 0;\n",
              "      width: 32px;\n",
              "    }\n",
              "\n",
              "    .colab-df-convert:hover {\n",
              "      background-color: #E2EBFA;\n",
              "      box-shadow: 0px 1px 2px rgba(60, 64, 67, 0.3), 0px 1px 3px 1px rgba(60, 64, 67, 0.15);\n",
              "      fill: #174EA6;\n",
              "    }\n",
              "\n",
              "    [theme=dark] .colab-df-convert {\n",
              "      background-color: #3B4455;\n",
              "      fill: #D2E3FC;\n",
              "    }\n",
              "\n",
              "    [theme=dark] .colab-df-convert:hover {\n",
              "      background-color: #434B5C;\n",
              "      box-shadow: 0px 1px 3px 1px rgba(0, 0, 0, 0.15);\n",
              "      filter: drop-shadow(0px 1px 2px rgba(0, 0, 0, 0.3));\n",
              "      fill: #FFFFFF;\n",
              "    }\n",
              "  </style>\n",
              "\n",
              "      <script>\n",
              "        const buttonEl =\n",
              "          document.querySelector('#df-c046d2ea-ddfa-415a-bfae-89287b27960a button.colab-df-convert');\n",
              "        buttonEl.style.display =\n",
              "          google.colab.kernel.accessAllowed ? 'block' : 'none';\n",
              "\n",
              "        async function convertToInteractive(key) {\n",
              "          const element = document.querySelector('#df-c046d2ea-ddfa-415a-bfae-89287b27960a');\n",
              "          const dataTable =\n",
              "            await google.colab.kernel.invokeFunction('convertToInteractive',\n",
              "                                                     [key], {});\n",
              "          if (!dataTable) return;\n",
              "\n",
              "          const docLinkHtml = 'Like what you see? Visit the ' +\n",
              "            '<a target=\"_blank\" href=https://colab.research.google.com/notebooks/data_table.ipynb>data table notebook</a>'\n",
              "            + ' to learn more about interactive tables.';\n",
              "          element.innerHTML = '';\n",
              "          dataTable['output_type'] = 'display_data';\n",
              "          await google.colab.output.renderOutput(dataTable, element);\n",
              "          const docLink = document.createElement('div');\n",
              "          docLink.innerHTML = docLinkHtml;\n",
              "          element.appendChild(docLink);\n",
              "        }\n",
              "      </script>\n",
              "    </div>\n",
              "  </div>\n",
              "  "
            ],
            "text/plain": [
              "            KOL ID             KOL Name  ... Key Topic Bucket\n",
              "0  KOL_DOL_US_2203         Farzana Arab  ...       NaN    NaN\n",
              "1  KOL_DOL_US_2203         Farzana Arab  ...       NaN    NaN\n",
              "2  KOL_DOL_US_2203         Farzana Arab  ...       NaN    NaN\n",
              "3  KOL_DOL_US_2204  Albert Qi Bang Chow  ...       NaN    NaN\n",
              "4  KOL_DOL_US_2205           Orly Leiva  ...       NaN    NaN\n",
              "\n",
              "[5 rows x 10 columns]"
            ]
          },
          "metadata": {},
          "execution_count": 32
        }
      ]
    },
    {
      "cell_type": "code",
      "source": [
        "df.info()"
      ],
      "metadata": {
        "colab": {
          "base_uri": "https://localhost:8080/"
        },
        "id": "MXMpywJMKW5e",
        "outputId": "5e2a50ba-5494-4cb8-d7bd-ccd6aca6a04b"
      },
      "execution_count": 33,
      "outputs": [
        {
          "output_type": "stream",
          "name": "stdout",
          "text": [
            "<class 'pandas.core.frame.DataFrame'>\n",
            "RangeIndex: 33546 entries, 0 to 33545\n",
            "Data columns (total 10 columns):\n",
            " #   Column                      Non-Null Count  Dtype  \n",
            "---  ------                      --------------  -----  \n",
            " 0   KOL ID                      33546 non-null  object \n",
            " 1   KOL Name                    33546 non-null  object \n",
            " 2   Social Media Article        33530 non-null  object \n",
            " 3   Social Media Article URL's  33530 non-null  object \n",
            " 4   Publish Date                33530 non-null  float64\n",
            " 5   Other Topic                 33530 non-null  object \n",
            " 6   Number of Views/Comments    33529 non-null  float64\n",
            " 7   Social Media URL's          0 non-null      float64\n",
            " 8   Key Topic                   0 non-null      float64\n",
            " 9   Bucket                      0 non-null      float64\n",
            "dtypes: float64(5), object(5)\n",
            "memory usage: 2.6+ MB\n"
          ]
        }
      ]
    },
    {
      "cell_type": "code",
      "source": [
        "df['KOL Name'].value_counts().head(20)"
      ],
      "metadata": {
        "colab": {
          "base_uri": "https://localhost:8080/"
        },
        "id": "k9-B8RwLKm41",
        "outputId": "acbc1546-1f1f-430f-b7f2-dbc97275077f"
      },
      "execution_count": 34,
      "outputs": [
        {
          "output_type": "execute_result",
          "data": {
            "text/plain": [
              "Zachary Scott Wallace            587\n",
              "Pravir Viral Baxi                560\n",
              "Samira Sophia Farouk             546\n",
              "Suleman Bhana                    532\n",
              "Joseph Alfred Vassalotti         521\n",
              "Nathaniel Cantey Reisinger       518\n",
              "Jilaine M. Bolek Berquist        511\n",
              "Sophia Louise Ambruso            509\n",
              "Sandra Mara Soares               500\n",
              "Tejas Pradeep Desai              500\n",
              "Nirupama Ramkumar                482\n",
              "David Chung Lee                  472\n",
              "Anitha Vijayan                   470\n",
              "Juan Carlos Q Velez              461\n",
              "Sai Sudha Mannemuddhu            439\n",
              "Tuhina Neogi                     439\n",
              "Manisha Singh                    432\n",
              "Keith Evan Stockerl-Goldstein    428\n",
              "Eugene Wesley Ely                427\n",
              "Salim Shahbuddin Virani          418\n",
              "Name: KOL Name, dtype: int64"
            ]
          },
          "metadata": {},
          "execution_count": 34
        }
      ]
    },
    {
      "cell_type": "code",
      "source": [
        "\n",
        "df['Social Media Article'].str.contains('covid').value_counts()\n"
      ],
      "metadata": {
        "colab": {
          "base_uri": "https://localhost:8080/"
        },
        "id": "IfF9wS7CK6FV",
        "outputId": "1afa54c6-6cf5-40e2-a15d-13aad248ec7a"
      },
      "execution_count": 35,
      "outputs": [
        {
          "output_type": "execute_result",
          "data": {
            "text/plain": [
              "False    32691\n",
              "True       839\n",
              "Name: Social Media Article, dtype: int64"
            ]
          },
          "metadata": {},
          "execution_count": 35
        }
      ]
    },
    {
      "cell_type": "code",
      "source": [
        "\n",
        "medical_terms = ['covid','cardio',]\n",
        "\n",
        "df_1 = df[~df['Social Media Article'].isin(medical_terms)]"
      ],
      "metadata": {
        "id": "2a4eSpH1RdlW"
      },
      "execution_count": 40,
      "outputs": []
    },
    {
      "cell_type": "code",
      "source": [
        "df_1.shape"
      ],
      "metadata": {
        "colab": {
          "base_uri": "https://localhost:8080/"
        },
        "id": "j7IZ5_SBSxms",
        "outputId": "18e2b5dc-d4c0-4ba2-92dc-a9a61f0edbd5"
      },
      "execution_count": 41,
      "outputs": [
        {
          "output_type": "execute_result",
          "data": {
            "text/plain": [
              "(33546, 10)"
            ]
          },
          "metadata": {},
          "execution_count": 41
        }
      ]
    },
    {
      "cell_type": "code",
      "source": [
        ""
      ],
      "metadata": {
        "id": "WvQ3ePd8S1LC"
      },
      "execution_count": null,
      "outputs": []
    }
  ]
}