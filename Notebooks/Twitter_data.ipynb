{
 "cells": [
  {
   "cell_type": "code",
   "execution_count": 1,
   "metadata": {},
   "outputs": [],
   "source": [
    "import pandas as  pd\n",
    "import numpy as np\n",
    "from openpyxl import load_workbook\n",
    "import matplotlib.pyplot as plt\n",
    "import seaborn as sns\n",
    "from openpyxl import Workbook\n",
    "from openpyxl.styles import Alignment, Font, Border, Side, PatternFill\n",
    "from openpyxl.utils import get_column_letter"
   ]
  },
  {
   "cell_type": "code",
   "execution_count": 2,
   "id": "420fb895",
   "metadata": {},
   "outputs": [],
   "source": [
    "# read from excel file and save to dataframe \n",
    "df = pd.read_excel('DOL_US_190_FP_FINAL.xlsx', sheet_name='Social Media_Activity')"
   ]
  },
  {
   "cell_type": "code",
   "execution_count": 3,
   "id": "de1f9b01",
   "metadata": {},
   "outputs": [
    {
     "data": {
      "text/html": [
       "<div>\n",
       "<style scoped>\n",
       "    .dataframe tbody tr th:only-of-type {\n",
       "        vertical-align: middle;\n",
       "    }\n",
       "\n",
       "    .dataframe tbody tr th {\n",
       "        vertical-align: top;\n",
       "    }\n",
       "\n",
       "    .dataframe thead th {\n",
       "        text-align: right;\n",
       "    }\n",
       "</style>\n",
       "<table border=\"1\" class=\"dataframe\">\n",
       "  <thead>\n",
       "    <tr style=\"text-align: right;\">\n",
       "      <th></th>\n",
       "      <th>KOL ID</th>\n",
       "      <th>KOL Name</th>\n",
       "      <th>Social Media Article</th>\n",
       "      <th>Social Media Article URL's</th>\n",
       "      <th>Publish Date</th>\n",
       "      <th>Other Topic</th>\n",
       "      <th>Number of Views/Comments</th>\n",
       "      <th>Social Media URL's</th>\n",
       "      <th>Key Topic</th>\n",
       "      <th>Bucket</th>\n",
       "    </tr>\n",
       "  </thead>\n",
       "  <tbody>\n",
       "    <tr>\n",
       "      <th>0</th>\n",
       "      <td>KOL_DOL_US_2203</td>\n",
       "      <td>Farzana Arab</td>\n",
       "      <td>From one doctor who didn’t match to another- M...</td>\n",
       "      <td>https://twitter.com/DrKJStanley/status/1371516...</td>\n",
       "      <td>44270.0</td>\n",
       "      <td>Public Health</td>\n",
       "      <td>88.0</td>\n",
       "      <td>NaN</td>\n",
       "      <td>NaN</td>\n",
       "      <td>NaN</td>\n",
       "    </tr>\n",
       "    <tr>\n",
       "      <th>1</th>\n",
       "      <td>KOL_DOL_US_2203</td>\n",
       "      <td>Farzana Arab</td>\n",
       "      <td>Thank you, @cullen_lilley ! 1) Farzana Arab 2)...</td>\n",
       "      <td>https://twitter.com/Farzanarab/status/13027651...</td>\n",
       "      <td>44081.0</td>\n",
       "      <td>Public Health</td>\n",
       "      <td>13.0</td>\n",
       "      <td>NaN</td>\n",
       "      <td>NaN</td>\n",
       "      <td>NaN</td>\n",
       "    </tr>\n",
       "    <tr>\n",
       "      <th>2</th>\n",
       "      <td>KOL_DOL_US_2203</td>\n",
       "      <td>Farzana Arab</td>\n",
       "      <td>AACR21 news &gt;&gt;&gt; Published by Farzana Arab in T...</td>\n",
       "      <td>https://twitter.com/TheSocialView1/status/1375...</td>\n",
       "      <td>44281.0</td>\n",
       "      <td>Therapeutic of Cancer</td>\n",
       "      <td>0.0</td>\n",
       "      <td>NaN</td>\n",
       "      <td>NaN</td>\n",
       "      <td>NaN</td>\n",
       "    </tr>\n",
       "    <tr>\n",
       "      <th>3</th>\n",
       "      <td>KOL_DOL_US_2204</td>\n",
       "      <td>Albert Qi Bang Chow</td>\n",
       "      <td>NaN</td>\n",
       "      <td>NaN</td>\n",
       "      <td>NaN</td>\n",
       "      <td>NaN</td>\n",
       "      <td>NaN</td>\n",
       "      <td>NaN</td>\n",
       "      <td>NaN</td>\n",
       "      <td>NaN</td>\n",
       "    </tr>\n",
       "    <tr>\n",
       "      <th>4</th>\n",
       "      <td>KOL_DOL_US_2205</td>\n",
       "      <td>Orly Leiva</td>\n",
       "      <td>RT @AlexShehataMD: Nice image illustrating EKG...</td>\n",
       "      <td>https://twitter.com/LeivaOrly/status/130309785...</td>\n",
       "      <td>44081.0</td>\n",
       "      <td>Covid-19</td>\n",
       "      <td>0.0</td>\n",
       "      <td>NaN</td>\n",
       "      <td>NaN</td>\n",
       "      <td>NaN</td>\n",
       "    </tr>\n",
       "  </tbody>\n",
       "</table>\n",
       "</div>"
      ],
      "text/plain": [
       "            KOL ID             KOL Name  \\\n",
       "0  KOL_DOL_US_2203         Farzana Arab   \n",
       "1  KOL_DOL_US_2203         Farzana Arab   \n",
       "2  KOL_DOL_US_2203         Farzana Arab   \n",
       "3  KOL_DOL_US_2204  Albert Qi Bang Chow   \n",
       "4  KOL_DOL_US_2205           Orly Leiva   \n",
       "\n",
       "                                Social Media Article  \\\n",
       "0  From one doctor who didn’t match to another- M...   \n",
       "1  Thank you, @cullen_lilley ! 1) Farzana Arab 2)...   \n",
       "2  AACR21 news >>> Published by Farzana Arab in T...   \n",
       "3                                                NaN   \n",
       "4  RT @AlexShehataMD: Nice image illustrating EKG...   \n",
       "\n",
       "                          Social Media Article URL's  Publish Date  \\\n",
       "0  https://twitter.com/DrKJStanley/status/1371516...       44270.0   \n",
       "1  https://twitter.com/Farzanarab/status/13027651...       44081.0   \n",
       "2  https://twitter.com/TheSocialView1/status/1375...       44281.0   \n",
       "3                                                NaN           NaN   \n",
       "4  https://twitter.com/LeivaOrly/status/130309785...       44081.0   \n",
       "\n",
       "             Other Topic  Number of Views/Comments  Social Media URL's  \\\n",
       "0          Public Health                      88.0                 NaN   \n",
       "1          Public Health                      13.0                 NaN   \n",
       "2  Therapeutic of Cancer                       0.0                 NaN   \n",
       "3                    NaN                       NaN                 NaN   \n",
       "4               Covid-19                       0.0                 NaN   \n",
       "\n",
       "   Key Topic  Bucket  \n",
       "0        NaN     NaN  \n",
       "1        NaN     NaN  \n",
       "2        NaN     NaN  \n",
       "3        NaN     NaN  \n",
       "4        NaN     NaN  "
      ]
     },
     "execution_count": 3,
     "metadata": {},
     "output_type": "execute_result"
    }
   ],
   "source": [
    "df.head()"
   ]
  },
  {
   "cell_type": "code",
   "execution_count": 7,
   "id": "557137dd",
   "metadata": {},
   "outputs": [
    {
     "name": "stdout",
     "output_type": "stream",
     "text": [
      "(33546, 10)\n",
      "Index(['KOL ID', 'KOL Name', 'Social Media Article',\n",
      "       'Social Media Article URL's', 'Publish Date', 'Other Topic',\n",
      "       'Number of Views/Comments', 'Social Media URL's', 'Key Topic',\n",
      "       'Bucket'],\n",
      "      dtype='object')\n"
     ]
    }
   ],
   "source": [
    "print(df.shape)\n",
    "print(df.columns)"
   ]
  },
  {
   "cell_type": "code",
   "execution_count": 8,
   "id": "b077a107",
   "metadata": {},
   "outputs": [
    {
     "data": {
      "text/plain": [
       "KOL ID                            0\n",
       "KOL Name                          0\n",
       "Social Media Article             16\n",
       "Social Media Article URL's       16\n",
       "Publish Date                     16\n",
       "Other Topic                      16\n",
       "Number of Views/Comments         17\n",
       "Social Media URL's            33546\n",
       "Key Topic                     33546\n",
       "Bucket                        33546\n",
       "dtype: int64"
      ]
     },
     "execution_count": 8,
     "metadata": {},
     "output_type": "execute_result"
    }
   ],
   "source": [
    "df.isnull().sum()"
   ]
  },
  {
   "cell_type": "code",
   "execution_count": 10,
   "id": "3906240d",
   "metadata": {},
   "outputs": [
    {
     "name": "stdout",
     "output_type": "stream",
     "text": [
      "<class 'pandas.core.frame.DataFrame'>\n",
      "RangeIndex: 33546 entries, 0 to 33545\n",
      "Data columns (total 10 columns):\n",
      " #   Column                      Non-Null Count  Dtype  \n",
      "---  ------                      --------------  -----  \n",
      " 0   KOL ID                      33546 non-null  object \n",
      " 1   KOL Name                    33546 non-null  object \n",
      " 2   Social Media Article        33530 non-null  object \n",
      " 3   Social Media Article URL's  33530 non-null  object \n",
      " 4   Publish Date                33530 non-null  float64\n",
      " 5   Other Topic                 33530 non-null  object \n",
      " 6   Number of Views/Comments    33529 non-null  float64\n",
      " 7   Social Media URL's          0 non-null      float64\n",
      " 8   Key Topic                   0 non-null      float64\n",
      " 9   Bucket                      0 non-null      float64\n",
      "dtypes: float64(5), object(5)\n",
      "memory usage: 2.6+ MB\n"
     ]
    }
   ],
   "source": [
    "df.info()"
   ]
  },
  {
   "cell_type": "code",
   "execution_count": 18,
   "id": "db44369c",
   "metadata": {},
   "outputs": [
    {
     "data": {
      "text/plain": [
       "289"
      ]
     },
     "execution_count": 18,
     "metadata": {},
     "output_type": "execute_result"
    }
   ],
   "source": [
    "# count the number of rows for \"KOL Name\" == \"Orly Leiva\" \n",
    "df[df['KOL Name'] == 'Orly Leiva'].shape[0]\n"
   ]
  }
 ],
 "metadata": {
  "interpreter": {
   "hash": "d59ae0163400a4254de3934f522ed24e296631ac493efe1b1c16c4540011f8f9"
  },
  "kernelspec": {
   "display_name": "Python 3.9.6 64-bit",
   "language": "python",
   "name": "python3"
  },
  "language_info": {
   "codemirror_mode": {
    "name": "ipython",
    "version": 3
   },
   "file_extension": ".py",
   "mimetype": "text/x-python",
   "name": "python",
   "nbconvert_exporter": "python",
   "pygments_lexer": "ipython3",
   "version": "3.7.11"
  }
 },
 "nbformat": 4,
 "nbformat_minor": 5
}
